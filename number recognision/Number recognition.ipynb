{
 "cells": [
  {
   "cell_type": "code",
   "execution_count": 6,
   "id": "bbbe5c72",
   "metadata": {},
   "outputs": [],
   "source": [
    "import pandas as pd\n",
    "import numpy as np\n",
    "import matplotlib.pyplot as plt\n",
    "import seaborn as sns\n",
    "plt.style.use('ggplot')\n",
    "sns.set_style('whitegrid')\n",
    "\n",
    "from sklearn.model_selection import train_test_split\n",
    "import tensorflow as tf\n",
    "from tensorflow import keras"
   ]
  },
  {
   "cell_type": "code",
   "execution_count": 26,
   "id": "a586231c",
   "metadata": {},
   "outputs": [],
   "source": [
    "train_df = pd.read_csv('D:/Desktop/OneDrive/Desktop/bharat intern/number recognision/train/train.csv')\n",
    "test_df = pd.read_csv('D:/Desktop/OneDrive/Desktop/bharat intern/number recognision/test/test.csv')\n",
    "submission_sample_df = pd.read_csv('D:/Desktop/OneDrive/Desktop/bharat intern/number recognision/sample_submission.csv')"
   ]
  },
  {
   "cell_type": "code",
   "execution_count": 14,
   "id": "0c247dce",
   "metadata": {},
   "outputs": [
    {
     "data": {
      "text/html": [
       "<div>\n",
       "<style scoped>\n",
       "    .dataframe tbody tr th:only-of-type {\n",
       "        vertical-align: middle;\n",
       "    }\n",
       "\n",
       "    .dataframe tbody tr th {\n",
       "        vertical-align: top;\n",
       "    }\n",
       "\n",
       "    .dataframe thead th {\n",
       "        text-align: right;\n",
       "    }\n",
       "</style>\n",
       "<table border=\"1\" class=\"dataframe\">\n",
       "  <thead>\n",
       "    <tr style=\"text-align: right;\">\n",
       "      <th></th>\n",
       "      <th>pixel0</th>\n",
       "      <th>pixel1</th>\n",
       "      <th>pixel2</th>\n",
       "      <th>pixel3</th>\n",
       "      <th>pixel4</th>\n",
       "      <th>pixel5</th>\n",
       "      <th>pixel6</th>\n",
       "      <th>pixel7</th>\n",
       "      <th>pixel8</th>\n",
       "      <th>pixel9</th>\n",
       "      <th>...</th>\n",
       "      <th>pixel774</th>\n",
       "      <th>pixel775</th>\n",
       "      <th>pixel776</th>\n",
       "      <th>pixel777</th>\n",
       "      <th>pixel778</th>\n",
       "      <th>pixel779</th>\n",
       "      <th>pixel780</th>\n",
       "      <th>pixel781</th>\n",
       "      <th>pixel782</th>\n",
       "      <th>pixel783</th>\n",
       "    </tr>\n",
       "  </thead>\n",
       "  <tbody>\n",
       "    <tr>\n",
       "      <th>0</th>\n",
       "      <td>0</td>\n",
       "      <td>0</td>\n",
       "      <td>0</td>\n",
       "      <td>0</td>\n",
       "      <td>0</td>\n",
       "      <td>0</td>\n",
       "      <td>0</td>\n",
       "      <td>0</td>\n",
       "      <td>0</td>\n",
       "      <td>0</td>\n",
       "      <td>...</td>\n",
       "      <td>0</td>\n",
       "      <td>0</td>\n",
       "      <td>0</td>\n",
       "      <td>0</td>\n",
       "      <td>0</td>\n",
       "      <td>0</td>\n",
       "      <td>0</td>\n",
       "      <td>0</td>\n",
       "      <td>0</td>\n",
       "      <td>0</td>\n",
       "    </tr>\n",
       "    <tr>\n",
       "      <th>1</th>\n",
       "      <td>0</td>\n",
       "      <td>0</td>\n",
       "      <td>0</td>\n",
       "      <td>0</td>\n",
       "      <td>0</td>\n",
       "      <td>0</td>\n",
       "      <td>0</td>\n",
       "      <td>0</td>\n",
       "      <td>0</td>\n",
       "      <td>0</td>\n",
       "      <td>...</td>\n",
       "      <td>0</td>\n",
       "      <td>0</td>\n",
       "      <td>0</td>\n",
       "      <td>0</td>\n",
       "      <td>0</td>\n",
       "      <td>0</td>\n",
       "      <td>0</td>\n",
       "      <td>0</td>\n",
       "      <td>0</td>\n",
       "      <td>0</td>\n",
       "    </tr>\n",
       "    <tr>\n",
       "      <th>2</th>\n",
       "      <td>0</td>\n",
       "      <td>0</td>\n",
       "      <td>0</td>\n",
       "      <td>0</td>\n",
       "      <td>0</td>\n",
       "      <td>0</td>\n",
       "      <td>0</td>\n",
       "      <td>0</td>\n",
       "      <td>0</td>\n",
       "      <td>0</td>\n",
       "      <td>...</td>\n",
       "      <td>0</td>\n",
       "      <td>0</td>\n",
       "      <td>0</td>\n",
       "      <td>0</td>\n",
       "      <td>0</td>\n",
       "      <td>0</td>\n",
       "      <td>0</td>\n",
       "      <td>0</td>\n",
       "      <td>0</td>\n",
       "      <td>0</td>\n",
       "    </tr>\n",
       "    <tr>\n",
       "      <th>3</th>\n",
       "      <td>0</td>\n",
       "      <td>0</td>\n",
       "      <td>0</td>\n",
       "      <td>0</td>\n",
       "      <td>0</td>\n",
       "      <td>0</td>\n",
       "      <td>0</td>\n",
       "      <td>0</td>\n",
       "      <td>0</td>\n",
       "      <td>0</td>\n",
       "      <td>...</td>\n",
       "      <td>0</td>\n",
       "      <td>0</td>\n",
       "      <td>0</td>\n",
       "      <td>0</td>\n",
       "      <td>0</td>\n",
       "      <td>0</td>\n",
       "      <td>0</td>\n",
       "      <td>0</td>\n",
       "      <td>0</td>\n",
       "      <td>0</td>\n",
       "    </tr>\n",
       "    <tr>\n",
       "      <th>4</th>\n",
       "      <td>0</td>\n",
       "      <td>0</td>\n",
       "      <td>0</td>\n",
       "      <td>0</td>\n",
       "      <td>0</td>\n",
       "      <td>0</td>\n",
       "      <td>0</td>\n",
       "      <td>0</td>\n",
       "      <td>0</td>\n",
       "      <td>0</td>\n",
       "      <td>...</td>\n",
       "      <td>0</td>\n",
       "      <td>0</td>\n",
       "      <td>0</td>\n",
       "      <td>0</td>\n",
       "      <td>0</td>\n",
       "      <td>0</td>\n",
       "      <td>0</td>\n",
       "      <td>0</td>\n",
       "      <td>0</td>\n",
       "      <td>0</td>\n",
       "    </tr>\n",
       "  </tbody>\n",
       "</table>\n",
       "<p>5 rows × 784 columns</p>\n",
       "</div>"
      ],
      "text/plain": [
       "   pixel0  pixel1  pixel2  pixel3  pixel4  pixel5  pixel6  pixel7  pixel8  \\\n",
       "0       0       0       0       0       0       0       0       0       0   \n",
       "1       0       0       0       0       0       0       0       0       0   \n",
       "2       0       0       0       0       0       0       0       0       0   \n",
       "3       0       0       0       0       0       0       0       0       0   \n",
       "4       0       0       0       0       0       0       0       0       0   \n",
       "\n",
       "   pixel9  ...  pixel774  pixel775  pixel776  pixel777  pixel778  pixel779  \\\n",
       "0       0  ...         0         0         0         0         0         0   \n",
       "1       0  ...         0         0         0         0         0         0   \n",
       "2       0  ...         0         0         0         0         0         0   \n",
       "3       0  ...         0         0         0         0         0         0   \n",
       "4       0  ...         0         0         0         0         0         0   \n",
       "\n",
       "   pixel780  pixel781  pixel782  pixel783  \n",
       "0         0         0         0         0  \n",
       "1         0         0         0         0  \n",
       "2         0         0         0         0  \n",
       "3         0         0         0         0  \n",
       "4         0         0         0         0  \n",
       "\n",
       "[5 rows x 784 columns]"
      ]
     },
     "execution_count": 14,
     "metadata": {},
     "output_type": "execute_result"
    }
   ],
   "source": [
    "train_df.head()\n",
    "test_df.head()"
   ]
  },
  {
   "cell_type": "code",
   "execution_count": 16,
   "id": "7a8f77ea",
   "metadata": {},
   "outputs": [
    {
     "data": {
      "text/plain": [
       "<Axes: xlabel='label', ylabel='count'>"
      ]
     },
     "execution_count": 16,
     "metadata": {},
     "output_type": "execute_result"
    },
    {
     "data": {
      "image/png": "[encoded data removed]",
      "text/plain": [
       "<Figure size 640x480 with 1 Axes>"
      ]
     },
     "metadata": {},
     "output_type": "display_data"
    }
   ],
   "source": [
    "# We have equal categories in train set\n",
    "sns.countplot(x=train_df['label'], color='purple')"
   ]
  },
  {
   "cell_type": "code",
   "execution_count": 19,
   "id": "b789ce3a",
   "metadata": {},
   "outputs": [
    {
     "name": "stdout",
     "output_type": "stream",
     "text": [
      "X_train shape: (42000, 784)\n",
      "y_train shape: (42000,)\n",
      "X_test shape: (28000, 784)\n"
     ]
    }
   ],
   "source": [
    "X_train = train_df.drop(columns='label')\n",
    "y_train = train_df['label']\n",
    "X_test = test_df\n",
    "print('X_train shape:', X_train.shape)\n",
    "print('y_train shape:', y_train.shape)\n",
    "print('X_test shape:', X_test.shape)\n"
   ]
  },
  {
   "cell_type": "code",
   "execution_count": 20,
   "id": "1820f787",
   "metadata": {},
   "outputs": [
    {
     "data": {
      "image/png": "[encoded data removed]",
      "text/plain": [
       "<Figure size 900x900 with 10 Axes>"
      ]
     },
     "metadata": {},
     "output_type": "display_data"
    }
   ],
   "source": [
    "# Normalization\n",
    "X_train /= 255.0\n",
    "X_test /= 255.0\n",
    "\n",
    "# Reshape\n",
    "X_train = X_train.values.reshape(-1, 28, 28, 1)\n",
    "X_test = X_test.values.reshape(-1, 28, 28, 1)\n",
    "\n",
    "# Onehot Encoding\n",
    "y_train = keras.utils.to_categorical(y_train)\n",
    "\n",
    "# Split the data to training and validation sets\n",
    "X_train, X_val, y_train, y_val = train_test_split(X_train, y_train, test_size=0.1, random_state=42)\n",
    "\n",
    "# Plot some examples\n",
    "plt.figure(figsize=(9,9))\n",
    "for i in range(10):\n",
    "    plt.subplot(5, 5, i+1)\n",
    "    plt.imshow(X_train[i], cmap='gray')\n",
    "    plt.title(np.argmax(y_train[i]))\n",
    "    plt.axis('off')\n",
    "plt.show()"
   ]
  },
  {
   "cell_type": "code",
   "execution_count": 22,
   "id": "b7b5a0c7",
   "metadata": {},
   "outputs": [
    {
     "name": "stdout",
     "output_type": "stream",
     "text": [
      "Model: \"sequential_1\"\n",
      "_________________________________________________________________\n",
      " Layer (type)                Output Shape              Param #   \n",
      "=================================================================\n",
      " conv2d_1 (Conv2D)           (None, 28, 28, 32)        832       \n",
      "                                                                 \n",
      " max_pooling2d_1 (MaxPoolin  (None, 14, 14, 32)        0         \n",
      " g2D)                                                            \n",
      "                                                                 \n",
      " dropout_1 (Dropout)         (None, 14, 14, 32)        0         \n",
      "                                                                 \n",
      " flatten_1 (Flatten)         (None, 6272)              0         \n",
      "                                                                 \n",
      " dense_2 (Dense)             (None, 256)               1605888   \n",
      "                                                                 \n",
      " dense_3 (Dense)             (None, 10)                2570      \n",
      "                                                                 \n",
      "=================================================================\n",
      "Total params: 1609290 (6.14 MB)\n",
      "Trainable params: 1609290 (6.14 MB)\n",
      "Non-trainable params: 0 (0.00 Byte)\n",
      "_________________________________________________________________\n"
     ]
    }
   ],
   "source": [
    "# Define the model\n",
    "from keras.models import Sequential\n",
    "from keras.layers import Dense, Dropout, Flatten, Conv2D, MaxPool2D\n",
    "from keras.optimizers import Adam\n",
    "from keras.preprocessing.image import ImageDataGenerator\n",
    "\n",
    "model = keras.Sequential(\n",
    "[\n",
    "    Conv2D(32, (5,5), padding='Same', activation='relu', input_shape=(28,28,1)),\n",
    "    MaxPool2D((2,2)),\n",
    "    Dropout(0.25),\n",
    "    Flatten(),\n",
    "    Dense(256, activation='relu'),\n",
    "    Dense(10, activation='softmax'),\n",
    "]\n",
    ")\n",
    "model.summary()"
   ]
  },
  {
   "cell_type": "code",
   "execution_count": 23,
   "id": "6ec5e065",
   "metadata": {},
   "outputs": [],
   "source": [
    "model.compile(optimizer = Adam(learning_rate=0.001), loss='categorical_crossentropy', metrics=['accuracy'])"
   ]
  },
  {
   "cell_type": "code",
   "execution_count": 24,
   "id": "b78d0ddd",
   "metadata": {},
   "outputs": [],
   "source": [
    "# Data Augmantation\n",
    "datagen = ImageDataGenerator(\n",
    "        rotation_range=5,\n",
    "        zoom_range = 0.1,\n",
    "        width_shift_range=0.1,\n",
    "        height_shift_range=0.1,\n",
    "        horizontal_flip=False,\n",
    "        vertical_flip=False)\n",
    "\n",
    "datagen.fit(X_train)"
   ]
  },
  {
   "cell_type": "code",
   "execution_count": 25,
   "id": "3c426fb8",
   "metadata": {},
   "outputs": [
    {
     "name": "stdout",
     "output_type": "stream",
     "text": [
      "Epoch 1/30\n",
      "295/295 [==============================] - 8s 24ms/step - loss: 0.6036 - accuracy: 0.8069 - val_loss: 0.1670 - val_accuracy: 0.9519\n",
      "Epoch 2/30\n",
      "295/295 [==============================] - 7s 25ms/step - loss: 0.2341 - accuracy: 0.9308 - val_loss: 0.1244 - val_accuracy: 0.9583\n",
      "Epoch 3/30\n",
      "295/295 [==============================] - 7s 24ms/step - loss: 0.1856 - accuracy: 0.9433 - val_loss: 0.0924 - val_accuracy: 0.9705\n",
      "Epoch 4/30\n",
      "295/295 [==============================] - 7s 25ms/step - loss: 0.1638 - accuracy: 0.9494 - val_loss: 0.0835 - val_accuracy: 0.9721\n",
      "Epoch 5/30\n",
      "295/295 [==============================] - 8s 25ms/step - loss: 0.1440 - accuracy: 0.9554 - val_loss: 0.0650 - val_accuracy: 0.9781\n",
      "Epoch 6/30\n",
      "295/295 [==============================] - 8s 27ms/step - loss: 0.1144 - accuracy: 0.9655 - val_loss: 0.0674 - val_accuracy: 0.9788\n",
      "Epoch 7/30\n",
      "295/295 [==============================] - 8s 26ms/step - loss: 0.1070 - accuracy: 0.9658 - val_loss: 0.0690 - val_accuracy: 0.9795\n",
      "Epoch 8/30\n",
      "295/295 [==============================] - 8s 27ms/step - loss: 0.1009 - accuracy: 0.9689 - val_loss: 0.0577 - val_accuracy: 0.9826\n",
      "Epoch 9/30\n",
      "295/295 [==============================] - 8s 27ms/step - loss: 0.0987 - accuracy: 0.9701 - val_loss: 0.0567 - val_accuracy: 0.9821\n",
      "Epoch 10/30\n",
      "295/295 [==============================] - 8s 26ms/step - loss: 0.0920 - accuracy: 0.9702 - val_loss: 0.0592 - val_accuracy: 0.9817\n",
      "Epoch 11/30\n",
      "295/295 [==============================] - 8s 26ms/step - loss: 0.0867 - accuracy: 0.9718 - val_loss: 0.0576 - val_accuracy: 0.9826\n",
      "Epoch 12/30\n",
      "295/295 [==============================] - 8s 27ms/step - loss: 0.0800 - accuracy: 0.9744 - val_loss: 0.0599 - val_accuracy: 0.9819\n",
      "Epoch 13/30\n",
      "295/295 [==============================] - 7s 25ms/step - loss: 0.0801 - accuracy: 0.9737 - val_loss: 0.0513 - val_accuracy: 0.9855\n",
      "Epoch 14/30\n",
      "295/295 [==============================] - 8s 27ms/step - loss: 0.0699 - accuracy: 0.9781 - val_loss: 0.0426 - val_accuracy: 0.9881\n",
      "Epoch 15/30\n",
      "295/295 [==============================] - 7s 25ms/step - loss: 0.0747 - accuracy: 0.9779 - val_loss: 0.0592 - val_accuracy: 0.9831\n",
      "Epoch 16/30\n",
      "295/295 [==============================] - 7s 25ms/step - loss: 0.0763 - accuracy: 0.9758 - val_loss: 0.0562 - val_accuracy: 0.9838\n",
      "Epoch 17/30\n",
      "295/295 [==============================] - 8s 26ms/step - loss: 0.0709 - accuracy: 0.9784 - val_loss: 0.0504 - val_accuracy: 0.9848\n",
      "Epoch 18/30\n",
      "295/295 [==============================] - 8s 27ms/step - loss: 0.0627 - accuracy: 0.9799 - val_loss: 0.0462 - val_accuracy: 0.9886\n",
      "Epoch 19/30\n",
      "295/295 [==============================] - 8s 27ms/step - loss: 0.0699 - accuracy: 0.9796 - val_loss: 0.0671 - val_accuracy: 0.9819\n",
      "Epoch 20/30\n",
      "295/295 [==============================] - 8s 27ms/step - loss: 0.0662 - accuracy: 0.9802 - val_loss: 0.0445 - val_accuracy: 0.9867\n",
      "Epoch 21/30\n",
      "295/295 [==============================] - 8s 28ms/step - loss: 0.0573 - accuracy: 0.9814 - val_loss: 0.0504 - val_accuracy: 0.9869\n",
      "Epoch 22/30\n",
      "295/295 [==============================] - 8s 27ms/step - loss: 0.0588 - accuracy: 0.9825 - val_loss: 0.0435 - val_accuracy: 0.9886\n",
      "Epoch 23/30\n",
      "295/295 [==============================] - 8s 26ms/step - loss: 0.0594 - accuracy: 0.9807 - val_loss: 0.0447 - val_accuracy: 0.9890\n",
      "Epoch 24/30\n",
      "295/295 [==============================] - 8s 26ms/step - loss: 0.0502 - accuracy: 0.9845 - val_loss: 0.0413 - val_accuracy: 0.9881\n",
      "Epoch 25/30\n",
      "295/295 [==============================] - 8s 26ms/step - loss: 0.0546 - accuracy: 0.9821 - val_loss: 0.0450 - val_accuracy: 0.9888\n",
      "Epoch 26/30\n",
      "295/295 [==============================] - 8s 26ms/step - loss: 0.0604 - accuracy: 0.9818 - val_loss: 0.0521 - val_accuracy: 0.9852\n",
      "Epoch 27/30\n",
      "295/295 [==============================] - 8s 27ms/step - loss: 0.0578 - accuracy: 0.9824 - val_loss: 0.0372 - val_accuracy: 0.9886\n",
      "Epoch 28/30\n",
      "295/295 [==============================] - 8s 26ms/step - loss: 0.0603 - accuracy: 0.9809 - val_loss: 0.0369 - val_accuracy: 0.9898\n",
      "Epoch 29/30\n",
      "295/295 [==============================] - 8s 26ms/step - loss: 0.0595 - accuracy: 0.9810 - val_loss: 0.0368 - val_accuracy: 0.9883\n",
      "Epoch 30/30\n",
      "295/295 [==============================] - 8s 26ms/step - loss: 0.0476 - accuracy: 0.9852 - val_loss: 0.0501 - val_accuracy: 0.9879\n"
     ]
    }
   ],
   "source": [
    "# Fit the model\n",
    "batch_size = 128\n",
    "history = model.fit(datagen.flow(X_train,y_train),\n",
    "                              batch_size = batch_size,\n",
    "                              epochs = 30,\n",
    "                              steps_per_epoch = X_train.shape[0] // batch_size,\n",
    "                              validation_data = (X_val,y_val),\n",
    "                             )"
   ]
  },
  {
   "cell_type": "code",
   "execution_count": 27,
   "id": "e98fb464",
   "metadata": {},
   "outputs": [
    {
     "data": {
      "image/png": "[encoded data removed]",
      "text/plain": [
       "<Figure size 700x400 with 1 Axes>"
      ]
     },
     "metadata": {},
     "output_type": "display_data"
    }
   ],
   "source": [
    "# Plot the loss for training and validation sets\n",
    "plt.figure(figsize=(7,4))\n",
    "plt.plot(history.history['loss'], color='b', label=\"Training loss\")\n",
    "plt.plot(history.history['val_loss'], color='r', label=\"validation loss\")\n",
    "plt.legend(loc='best', shadow=True)\n",
    "plt.show()"
   ]
  },
  {
   "cell_type": "code",
   "execution_count": 28,
   "id": "081b92f8",
   "metadata": {},
   "outputs": [
    {
     "name": "stdout",
     "output_type": "stream",
     "text": [
      "132/132 [==============================] - 1s 5ms/step\n"
     ]
    }
   ],
   "source": [
    "preds = model.predict(X_val)"
   ]
  },
  {
   "cell_type": "code",
   "execution_count": 29,
   "id": "3765bd4c",
   "metadata": {},
   "outputs": [
    {
     "data": {
      "image/png": "[encoded data removed]",
      "text/plain": [
       "<Figure size 1000x1000 with 9 Axes>"
      ]
     },
     "metadata": {},
     "output_type": "display_data"
    }
   ],
   "source": [
    "# Plot 9 of the False Results from validation set\n",
    "# get the labels\n",
    "preds_labels = np.argmax(preds,axis = 1)\n",
    "y_val_labels = np.argmax(y_val,axis = 1)\n",
    "\n",
    "errors = (preds_labels - y_val_labels != 0)\n",
    "preds_errors = preds_labels[errors]\n",
    "preds_true = y_val_labels[errors]\n",
    "X_val_true = X_val[errors]\n",
    "\n",
    "# make the plot\n",
    "i = 0\n",
    "fig, axes = plt.subplots(3,3,figsize=(10,10), sharex=True, sharey=True)\n",
    "for row in range(3):\n",
    "    for col in range(3):\n",
    "        axes[row,col].imshow((X_val_true[i]), cmap='gray')\n",
    "        axes[row,col].set_title(f'Predicted: {preds_errors[i]} | True: {preds_true[i]}')\n",
    "        axes[row,col].axis('off')\n",
    "        i += 1\n",
    "plt.show()"
   ]
  },
  {
   "cell_type": "code",
   "execution_count": 30,
   "id": "eae0a5ed",
   "metadata": {},
   "outputs": [
    {
     "data": {
      "text/html": [
       "<div>\n",
       "<style scoped>\n",
       "    .dataframe tbody tr th:only-of-type {\n",
       "        vertical-align: middle;\n",
       "    }\n",
       "\n",
       "    .dataframe tbody tr th {\n",
       "        vertical-align: top;\n",
       "    }\n",
       "\n",
       "    .dataframe thead th {\n",
       "        text-align: right;\n",
       "    }\n",
       "</style>\n",
       "<table border=\"1\" class=\"dataframe\">\n",
       "  <thead>\n",
       "    <tr style=\"text-align: right;\">\n",
       "      <th></th>\n",
       "      <th>ImageId</th>\n",
       "      <th>Label</th>\n",
       "    </tr>\n",
       "  </thead>\n",
       "  <tbody>\n",
       "    <tr>\n",
       "      <th>0</th>\n",
       "      <td>1</td>\n",
       "      <td>0</td>\n",
       "    </tr>\n",
       "    <tr>\n",
       "      <th>1</th>\n",
       "      <td>2</td>\n",
       "      <td>0</td>\n",
       "    </tr>\n",
       "    <tr>\n",
       "      <th>2</th>\n",
       "      <td>3</td>\n",
       "      <td>0</td>\n",
       "    </tr>\n",
       "    <tr>\n",
       "      <th>3</th>\n",
       "      <td>4</td>\n",
       "      <td>0</td>\n",
       "    </tr>\n",
       "    <tr>\n",
       "      <th>4</th>\n",
       "      <td>5</td>\n",
       "      <td>0</td>\n",
       "    </tr>\n",
       "    <tr>\n",
       "      <th>5</th>\n",
       "      <td>6</td>\n",
       "      <td>0</td>\n",
       "    </tr>\n",
       "    <tr>\n",
       "      <th>6</th>\n",
       "      <td>7</td>\n",
       "      <td>0</td>\n",
       "    </tr>\n",
       "    <tr>\n",
       "      <th>7</th>\n",
       "      <td>8</td>\n",
       "      <td>0</td>\n",
       "    </tr>\n",
       "    <tr>\n",
       "      <th>8</th>\n",
       "      <td>9</td>\n",
       "      <td>0</td>\n",
       "    </tr>\n",
       "    <tr>\n",
       "      <th>9</th>\n",
       "      <td>10</td>\n",
       "      <td>0</td>\n",
       "    </tr>\n",
       "  </tbody>\n",
       "</table>\n",
       "</div>"
      ],
      "text/plain": [
       "   ImageId  Label\n",
       "0        1      0\n",
       "1        2      0\n",
       "2        3      0\n",
       "3        4      0\n",
       "4        5      0\n",
       "5        6      0\n",
       "6        7      0\n",
       "7        8      0\n",
       "8        9      0\n",
       "9       10      0"
      ]
     },
     "execution_count": 30,
     "metadata": {},
     "output_type": "execute_result"
    }
   ],
   "source": [
    "submission_sample_df.head(10)"
   ]
  },
  {
   "cell_type": "code",
   "execution_count": 31,
   "id": "1dc1b0ca",
   "metadata": {},
   "outputs": [
    {
     "name": "stdout",
     "output_type": "stream",
     "text": [
      "875/875 [==============================] - 4s 4ms/step\n"
     ]
    }
   ],
   "source": [
    "my_results = model.predict(X_test)\n",
    "my_results = np.argmax(my_results, axis=1)\n",
    "labels = pd.Series(my_results, name='Label')\n",
    "imageIds = pd.Series(range(1,28001), name='ImageId')"
   ]
  },
  {
   "cell_type": "code",
   "execution_count": 32,
   "id": "d074364a",
   "metadata": {},
   "outputs": [
    {
     "data": {
      "text/html": [
       "<div>\n",
       "<style scoped>\n",
       "    .dataframe tbody tr th:only-of-type {\n",
       "        vertical-align: middle;\n",
       "    }\n",
       "\n",
       "    .dataframe tbody tr th {\n",
       "        vertical-align: top;\n",
       "    }\n",
       "\n",
       "    .dataframe thead th {\n",
       "        text-align: right;\n",
       "    }\n",
       "</style>\n",
       "<table border=\"1\" class=\"dataframe\">\n",
       "  <thead>\n",
       "    <tr style=\"text-align: right;\">\n",
       "      <th></th>\n",
       "      <th>ImageId</th>\n",
       "      <th>Label</th>\n",
       "    </tr>\n",
       "  </thead>\n",
       "  <tbody>\n",
       "    <tr>\n",
       "      <th>0</th>\n",
       "      <td>1</td>\n",
       "      <td>2</td>\n",
       "    </tr>\n",
       "    <tr>\n",
       "      <th>1</th>\n",
       "      <td>2</td>\n",
       "      <td>0</td>\n",
       "    </tr>\n",
       "    <tr>\n",
       "      <th>2</th>\n",
       "      <td>3</td>\n",
       "      <td>9</td>\n",
       "    </tr>\n",
       "    <tr>\n",
       "      <th>3</th>\n",
       "      <td>4</td>\n",
       "      <td>0</td>\n",
       "    </tr>\n",
       "    <tr>\n",
       "      <th>4</th>\n",
       "      <td>5</td>\n",
       "      <td>3</td>\n",
       "    </tr>\n",
       "    <tr>\n",
       "      <th>5</th>\n",
       "      <td>6</td>\n",
       "      <td>7</td>\n",
       "    </tr>\n",
       "    <tr>\n",
       "      <th>6</th>\n",
       "      <td>7</td>\n",
       "      <td>0</td>\n",
       "    </tr>\n",
       "    <tr>\n",
       "      <th>7</th>\n",
       "      <td>8</td>\n",
       "      <td>3</td>\n",
       "    </tr>\n",
       "    <tr>\n",
       "      <th>8</th>\n",
       "      <td>9</td>\n",
       "      <td>0</td>\n",
       "    </tr>\n",
       "    <tr>\n",
       "      <th>9</th>\n",
       "      <td>10</td>\n",
       "      <td>3</td>\n",
       "    </tr>\n",
       "  </tbody>\n",
       "</table>\n",
       "</div>"
      ],
      "text/plain": [
       "   ImageId  Label\n",
       "0        1      2\n",
       "1        2      0\n",
       "2        3      9\n",
       "3        4      0\n",
       "4        5      3\n",
       "5        6      7\n",
       "6        7      0\n",
       "7        8      3\n",
       "8        9      0\n",
       "9       10      3"
      ]
     },
     "execution_count": 32,
     "metadata": {},
     "output_type": "execute_result"
    }
   ],
   "source": [
    "my_submission = pd.concat([imageIds, labels], axis=1)\n",
    "my_submission.head(10)"
   ]
  },
  {
   "cell_type": "code",
   "execution_count": 34,
   "id": "e1594b75",
   "metadata": {},
   "outputs": [],
   "source": [
    "# Finaly, Submit my submission\n",
    "my_submission.to_csv(\"digit_recognition_neural_network.csv\",index=False)"
   ]
  },
  {
   "cell_type": "code",
   "execution_count": null,
   "id": "b2df8ff4",
   "metadata": {},
   "outputs": [],
   "source": []
  }
 ],
 "metadata": {
  "kernelspec": {
   "display_name": "Python 3 (ipykernel)",
   "language": "python",
   "name": "python3"
  },
  "language_info": {
   "codemirror_mode": {
    "name": "ipython",
    "version": 3
   },
   "file_extension": ".py",
   "mimetype": "text/x-python",
   "name": "python",
   "nbconvert_exporter": "python",
   "pygments_lexer": "ipython3",
   "version": "3.10.9"
  }
 },
 "nbformat": 4,
 "nbformat_minor": 5
}
